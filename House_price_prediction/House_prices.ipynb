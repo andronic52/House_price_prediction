   "cell_type": "code",
   "source": [
    "import pandas as pd\n",
    "import numpy as np\n",
    "import warnings\n",
    "from sklearn.model_selection import train_test_split\n",
    "from sklearn.linear_model import LinearRegression\n",
    "\n",
    "# Read the dataset\n",
    "df = pd.read_csv('Housing.csv')\n",
    "\n",
    "# Selecting only relevant columns for this example\n",
    "df = df[['bedrooms', 'price']]\n",
    "\n",
    "# Explicitly set feature names when creating DataFrame\n",
    "X = pd.DataFrame(data=df['bedrooms'], columns=['bedrooms'])\n",
    "y = df['price']\n",
    "\n",
    "# Splitting data into training and testing sets\n",
    "X_train, X_test, y_train, y_test = train_test_split(X, y, test_size=0.2, random_state=42)\n",
    "\n",
    "# Creating and training the model\n",
    "model = LinearRegression()\n",
    "model.fit(X_train, y_train)\n",
    "\n",
    "with warnings.catch_warnings():\n",
    "    # Suppress warning related to feature names\n",
    "    warnings.filterwarnings(\"ignore\", category=UserWarning)\n",
    "    model.fit(X_train, y_train)\n",
    "\n",
    "# Function to predict price based on number of bedrooms\n",
    "def predict_price(num_bedrooms):\n",
    "    # Reshape input to match the model's expectations\n",
    "    num_bedrooms = np.array([[num_bedrooms]])\n",
    "    # Predict the price\n",
    "    predicted_price = model.predict(num_bedrooms)\n",
    "    return predicted_price[0]\n",
    "\n",
    "# Example usage of the function\n",
    "num_bedrooms_input = int(input(\"Enter the number of bedrooms: \"))\n",
    "predicted_price = predict_price(num_bedrooms_input)\n",
    "print(f\"Predicted price for {num_bedrooms_input} bedrooms: ${predicted_price/2:.2f}\")\n"
   ],
   "id": "794393aeae74c564",
   "outputs": [
    {
     "name": "stdout",
     "output_type": "stream",
     "text": [
      "Predicted price for 10 bedrooms: $665608.35\n"
     ]
    },
    {
     "name": "stderr",
     "output_type": "stream",
     "text": [
      "C:\\Users\\andro\\anaconda3\\envs\\AI\\lib\\site-packages\\sklearn\\base.py:464: UserWarning: X does not have valid feature names, but LinearRegression was fitted with feature names\n",
      "  warnings.warn(\n"
     ]
    }
   ],
   "execution_count": 22
  },
  {
   "metadata": {},
   "cell_type": "code",
   "outputs": [],
   "execution_count": null,
   "source": "",
   "id": "efb387bd03bd3d8d"
  }
 ],
 "metadata": {
  "kernelspec": {
   "display_name": "Python 3",
   "language": "python",
   "name": "python3"
  },
  "language_info": {
   "codemirror_mode": {
    "name": "ipython",
    "version": 2
   },
   "file_extension": ".py",
   "mimetype": "text/x-python",
   "name": "python",
   "nbconvert_exporter": "python",
   "pygments_lexer": "ipython2",
   "version": "2.7.6"
  }
 },
 "nbformat": 4,
 "nbformat_minor": 5
}
